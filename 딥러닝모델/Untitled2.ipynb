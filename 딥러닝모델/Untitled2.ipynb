{
  "nbformat": 4,
  "nbformat_minor": 0,
  "metadata": {
    "colab": {
      "name": "Untitled2.ipynb",
      "provenance": [],
      "collapsed_sections": []
    },
    "kernelspec": {
      "name": "python3",
      "display_name": "Python 3"
    },
    "language_info": {
      "name": "python"
    },
    "accelerator": "GPU"
  },
  "cells": [
    {
      "cell_type": "code",
      "metadata": {
        "colab": {
          "base_uri": "https://localhost:8080/"
        },
        "id": "eEn0a4ZQAQth",
        "outputId": "b825796b-4268-418f-ff00-3177dfb208bd"
      },
      "source": [
        "from google.colab import drive\n",
        "drive.mount('/content/gdrive/')"
      ],
      "execution_count": null,
      "outputs": [
        {
          "output_type": "stream",
          "text": [
            "Mounted at /content/gdrive/\n"
          ],
          "name": "stdout"
        }
      ]
    },
    {
      "cell_type": "code",
      "metadata": {
        "id": "4pRlWF40AZqo"
      },
      "source": [
        "from keras.preprocessing import image\n",
        "import matplotlib.pyplot as plt\n",
        "import os, shutil\n",
        "\n",
        "# 훈련, 검증, 테스트 분할을 위한 디렉터리\n",
        "base_dir = '/content/gdrive/MyDrive/한이음자율형'\n",
        "train_dir = os.path.join(base_dir, 'train')\n",
        "os.mkdir(train_dir)\n",
        "validation_dir = os.path.join(base_dir, 'validation')\n",
        "os.mkdir(validation_dir)\n",
        "test_dir = os.path.join(base_dir, 'test')\n",
        "os.mkdir(test_dir)\n",
        "\n",
        "# 훈련용 사진 디렉터리\n",
        "train_f_dir = os.path.join(train_dir, 'train_F')\n",
        "os.mkdir(train_f_dir)\n",
        "\n",
        "# 훈련용 사진 디렉터리\n",
        "train_b_dir = os.path.join(train_dir, 'train_B')\n",
        "os.mkdir(train_b_dir)\n",
        "######################################################################\n",
        "# 검증용 사진 디렉터리\n",
        "validation_f_dir = os.path.join(validation_dir, 'valid_F')\n",
        "os.mkdir(validation_f_dir)\n",
        "\n",
        "# 검증용 사진 디렉터리\n",
        "validation_b_dir = os.path.join(validation_dir, 'valid_B')\n",
        "os.mkdir(validation_b_dir)\n",
        "######################################################################\n",
        "# 테스트용 사진 디렉터리\n",
        "test_f_dir = os.path.join(test_dir, 'test_F')\n",
        "os.mkdir(test_f_dir)\n",
        "\n",
        "# 테스트용 사진 디렉터리\n",
        "test_b_dir = os.path.join(test_dir, 'test_B')\n",
        "os.mkdir(test_b_dir)\n",
        "\n",
        "original_f_dataset_dir = '/content/gdrive/MyDrive/한이음자율형/resize_front_150'\n",
        "original_b_dataset_dir = '/content/gdrive/MyDrive/한이음자율형/resize_back_150'\n",
        "\n",
        "fnames = ['1_{}.jpg'.format(i+1) for i in range(300)]\n",
        "for fname in fnames:\n",
        "    src = os.path.join(original_f_dataset_dir, fname)\n",
        "    dst = os.path.join(train_f_dir, fname)\n",
        "    shutil.copyfile(src, dst)\n",
        "\n",
        "\n",
        "fnames = ['1_{}.jpg'.format(i+1) for i in range(300,450)]\n",
        "for fname in fnames:\n",
        "    src = os.path.join(original_f_dataset_dir, fname)\n",
        "    dst = os.path.join(validation_f_dir, fname)\n",
        "    shutil.copyfile(src, dst)\n",
        "    \n",
        "\n",
        "fnames = ['1_{}.jpg'.format(i+1) for i in range(450,500)]\n",
        "for fname in fnames:\n",
        "    src = os.path.join(original_f_dataset_dir, fname)\n",
        "    dst = os.path.join(test_f_dir, fname)\n",
        "    shutil.copyfile(src, dst)\n",
        "\n",
        "fnames = ['0_{}.jpg'.format(i+1) for i in range(300)]\n",
        "for fname in fnames:\n",
        "    src = os.path.join(original_b_dataset_dir, fname)\n",
        "    dst = os.path.join(train_b_dir, fname)\n",
        "    shutil.copyfile(src, dst)\n",
        "\n",
        "\n",
        "fnames = ['0_{}.jpg'.format(i+1) for i in range(300,450)]\n",
        "for fname in fnames:\n",
        "    src = os.path.join(original_b_dataset_dir, fname)\n",
        "    dst = os.path.join(validation_b_dir, fname)\n",
        "    shutil.copyfile(src, dst)\n",
        "    \n",
        "\n",
        "fnames = ['0_{}.jpg'.format(i+1) for i in range(450,500)]\n",
        "for fname in fnames:\n",
        "    src = os.path.join(original_b_dataset_dir, fname)\n",
        "    dst = os.path.join(test_b_dir, fname)\n",
        "    shutil.copyfile(src, dst)"
      ],
      "execution_count": null,
      "outputs": []
    },
    {
      "cell_type": "code",
      "metadata": {
        "colab": {
          "base_uri": "https://localhost:8080/"
        },
        "id": "QYxoup50Ae8e",
        "outputId": "f5419b06-c534-4294-ac26-234a50023660"
      },
      "source": [
        "from keras import layers\n",
        "from keras import models\n",
        "\n",
        "model = models.Sequential()\n",
        "model.add(layers.Flatten(input_shape=(150, 150, 3)))\n",
        "model.add(layers.Dense(128, activation = 'relu'))\n",
        "model.add(layers.Dense(1, activation = 'sigmoid'))\n",
        "\n",
        "model.summary()"
      ],
      "execution_count": null,
      "outputs": [
        {
          "output_type": "stream",
          "text": [
            "Model: \"sequential_6\"\n",
            "_________________________________________________________________\n",
            "Layer (type)                 Output Shape              Param #   \n",
            "=================================================================\n",
            "flatten_6 (Flatten)          (None, 67500)             0         \n",
            "_________________________________________________________________\n",
            "dense_12 (Dense)             (None, 128)               8640128   \n",
            "_________________________________________________________________\n",
            "dense_13 (Dense)             (None, 1)                 129       \n",
            "=================================================================\n",
            "Total params: 8,640,257\n",
            "Trainable params: 8,640,257\n",
            "Non-trainable params: 0\n",
            "_________________________________________________________________\n"
          ],
          "name": "stdout"
        }
      ]
    },
    {
      "cell_type": "code",
      "metadata": {
        "id": "VMDptZDPAnkn"
      },
      "source": [
        "from keras import optimizers\n",
        "\n",
        "model.compile(loss = 'binary_crossentropy', optimizer=optimizers.RMSprop(learning_rate=1e-4), metrics = ['accuracy'])"
      ],
      "execution_count": null,
      "outputs": []
    },
    {
      "cell_type": "code",
      "metadata": {
        "colab": {
          "base_uri": "https://localhost:8080/"
        },
        "id": "b4FM4w4vAvxV",
        "outputId": "3992f56c-9ccf-49ee-fe66-9509bd2583da"
      },
      "source": [
        "from keras.preprocessing.image import ImageDataGenerator\n",
        "\n",
        "train_datagen = ImageDataGenerator(rescale=1./255,\n",
        "                                   rotation_range=40,\n",
        "                                   width_shift_range=0.2,\n",
        "                                   height_shift_range=0.2,\n",
        "                                   shear_range=0.2,\n",
        "                                   zoom_range=0.2,\n",
        "                                   horizontal_flip=True,\n",
        "                                   )\n",
        "test_datagen = ImageDataGenerator(rescale=1./255)\n",
        "\n",
        "train_generator = train_datagen.flow_from_directory(\n",
        "    train_dir,\n",
        "    target_size=(150,150),\n",
        "    batch_size=25,\n",
        "    class_mode = 'binary'\n",
        ")\n",
        "\n",
        "validation_generator = test_datagen.flow_from_directory(\n",
        "    validation_dir,\n",
        "    target_size=(150,150),\n",
        "    batch_size=25,\n",
        "    class_mode = 'binary'\n",
        ")"
      ],
      "execution_count": null,
      "outputs": [
        {
          "output_type": "stream",
          "text": [
            "Found 600 images belonging to 2 classes.\n",
            "Found 300 images belonging to 2 classes.\n"
          ],
          "name": "stdout"
        }
      ]
    },
    {
      "cell_type": "code",
      "metadata": {
        "colab": {
          "base_uri": "https://localhost:8080/"
        },
        "id": "qk_rHCmTAyad",
        "outputId": "f62c723d-0629-4f1d-d180-bbbd05597166"
      },
      "source": [
        "history = model.fit_generator(\n",
        "    train_generator,\n",
        "    steps_per_epoch=20,\n",
        "    epochs=30,\n",
        "    validation_data = validation_generator,\n",
        "    validation_steps=10\n",
        ")"
      ],
      "execution_count": null,
      "outputs": [
        {
          "output_type": "stream",
          "text": [
            "/usr/local/lib/python3.7/dist-packages/keras/engine/training.py:1915: UserWarning: `Model.fit_generator` is deprecated and will be removed in a future version. Please use `Model.fit`, which supports generators.\n",
            "  warnings.warn('`Model.fit_generator` is deprecated and '\n"
          ],
          "name": "stderr"
        },
        {
          "output_type": "stream",
          "text": [
            "Epoch 1/30\n",
            "20/20 [==============================] - 5s 203ms/step - loss: 3.2242 - accuracy: 0.5933 - val_loss: 0.6646 - val_accuracy: 0.7240\n",
            "Epoch 2/30\n",
            "20/20 [==============================] - 4s 187ms/step - loss: 0.7001 - accuracy: 0.7119 - val_loss: 1.3270 - val_accuracy: 0.5680\n",
            "Epoch 3/30\n",
            "20/20 [==============================] - 4s 184ms/step - loss: 0.8689 - accuracy: 0.7170 - val_loss: 0.3403 - val_accuracy: 0.8520\n",
            "Epoch 4/30\n",
            "20/20 [==============================] - 4s 185ms/step - loss: 0.8982 - accuracy: 0.7095 - val_loss: 0.2508 - val_accuracy: 0.8880\n",
            "Epoch 5/30\n",
            "20/20 [==============================] - 4s 185ms/step - loss: 0.5693 - accuracy: 0.8167 - val_loss: 0.2626 - val_accuracy: 0.8840\n",
            "Epoch 6/30\n",
            "20/20 [==============================] - 4s 185ms/step - loss: 0.6310 - accuracy: 0.7941 - val_loss: 0.2048 - val_accuracy: 0.9080\n",
            "Epoch 7/30\n",
            "20/20 [==============================] - 4s 186ms/step - loss: 0.5965 - accuracy: 0.8051 - val_loss: 0.1818 - val_accuracy: 0.9160\n",
            "Epoch 8/30\n",
            "20/20 [==============================] - 4s 187ms/step - loss: 0.3312 - accuracy: 0.8793 - val_loss: 0.2248 - val_accuracy: 0.9160\n",
            "Epoch 9/30\n",
            "20/20 [==============================] - 4s 188ms/step - loss: 0.4524 - accuracy: 0.8582 - val_loss: 0.8180 - val_accuracy: 0.7160\n",
            "Epoch 10/30\n",
            "20/20 [==============================] - 4s 186ms/step - loss: 0.5240 - accuracy: 0.7996 - val_loss: 0.1861 - val_accuracy: 0.9240\n",
            "Epoch 11/30\n",
            "20/20 [==============================] - 4s 189ms/step - loss: 0.5060 - accuracy: 0.8474 - val_loss: 0.1731 - val_accuracy: 0.9280\n",
            "Epoch 12/30\n",
            "20/20 [==============================] - 4s 187ms/step - loss: 0.4171 - accuracy: 0.8765 - val_loss: 0.1413 - val_accuracy: 0.9400\n",
            "Epoch 13/30\n",
            "20/20 [==============================] - 4s 186ms/step - loss: 0.5213 - accuracy: 0.8391 - val_loss: 0.8817 - val_accuracy: 0.7080\n",
            "Epoch 14/30\n",
            "20/20 [==============================] - 4s 184ms/step - loss: 0.7518 - accuracy: 0.7987 - val_loss: 0.3392 - val_accuracy: 0.8840\n",
            "Epoch 15/30\n",
            "20/20 [==============================] - 4s 185ms/step - loss: 0.5201 - accuracy: 0.8691 - val_loss: 0.1193 - val_accuracy: 0.9560\n",
            "Epoch 16/30\n",
            "20/20 [==============================] - 4s 187ms/step - loss: 0.6915 - accuracy: 0.7985 - val_loss: 0.1897 - val_accuracy: 0.9000\n",
            "Epoch 17/30\n",
            "20/20 [==============================] - 4s 186ms/step - loss: 0.4647 - accuracy: 0.8500 - val_loss: 0.1067 - val_accuracy: 0.9600\n",
            "Epoch 18/30\n",
            "20/20 [==============================] - 4s 185ms/step - loss: 0.4602 - accuracy: 0.8300 - val_loss: 0.1762 - val_accuracy: 0.9320\n",
            "Epoch 19/30\n",
            "20/20 [==============================] - 4s 187ms/step - loss: 0.3189 - accuracy: 0.8813 - val_loss: 0.2790 - val_accuracy: 0.8960\n",
            "Epoch 20/30\n",
            "20/20 [==============================] - 4s 187ms/step - loss: 0.5328 - accuracy: 0.8276 - val_loss: 0.1150 - val_accuracy: 0.9560\n",
            "Epoch 21/30\n",
            "20/20 [==============================] - 4s 188ms/step - loss: 0.4370 - accuracy: 0.8830 - val_loss: 0.1498 - val_accuracy: 0.9480\n",
            "Epoch 22/30\n",
            "20/20 [==============================] - 4s 186ms/step - loss: 0.3913 - accuracy: 0.8812 - val_loss: 0.1321 - val_accuracy: 0.9360\n",
            "Epoch 23/30\n",
            "20/20 [==============================] - 4s 186ms/step - loss: 0.3093 - accuracy: 0.8840 - val_loss: 0.1080 - val_accuracy: 0.9560\n",
            "Epoch 24/30\n",
            "20/20 [==============================] - 4s 187ms/step - loss: 0.5612 - accuracy: 0.8403 - val_loss: 0.3522 - val_accuracy: 0.8560\n",
            "Epoch 25/30\n",
            "20/20 [==============================] - 4s 185ms/step - loss: 0.3065 - accuracy: 0.8999 - val_loss: 0.0960 - val_accuracy: 0.9600\n",
            "Epoch 26/30\n",
            "20/20 [==============================] - 4s 185ms/step - loss: 0.4061 - accuracy: 0.8839 - val_loss: 0.0989 - val_accuracy: 0.9560\n",
            "Epoch 27/30\n",
            "20/20 [==============================] - 4s 189ms/step - loss: 0.2876 - accuracy: 0.9184 - val_loss: 0.1870 - val_accuracy: 0.9360\n",
            "Epoch 28/30\n",
            "20/20 [==============================] - 4s 188ms/step - loss: 0.5472 - accuracy: 0.8631 - val_loss: 0.1250 - val_accuracy: 0.9520\n",
            "Epoch 29/30\n",
            "20/20 [==============================] - 4s 188ms/step - loss: 0.4908 - accuracy: 0.8573 - val_loss: 0.0968 - val_accuracy: 0.9560\n",
            "Epoch 30/30\n",
            "20/20 [==============================] - 4s 188ms/step - loss: 0.3633 - accuracy: 0.9094 - val_loss: 0.1204 - val_accuracy: 0.9440\n"
          ],
          "name": "stdout"
        }
      ]
    },
    {
      "cell_type": "code",
      "metadata": {
        "colab": {
          "base_uri": "https://localhost:8080/",
          "height": 545
        },
        "id": "XKorkbDXCfth",
        "outputId": "f8dc43d1-c224-4ac8-a423-b532521ce6c0"
      },
      "source": [
        "import matplotlib.pyplot as plt\n",
        "\n",
        "acc = history.history['accuracy']\n",
        "val_acc = history.history['val_accuracy']\n",
        "loss = history.history['loss']\n",
        "val_loss = history.history['val_loss']\n",
        "\n",
        "epochs = range(1, len(acc) + 1)\n",
        "\n",
        "plt.plot(epochs, acc, 'bo', label='Training Accuracy')\n",
        "plt.plot(epochs, val_acc, 'b', label='Validation Accuracy')\n",
        "plt.title('Training and Validation Accuracy')\n",
        "plt.legend()\n",
        "\n",
        "plt.figure()\n",
        "\n",
        "plt.plot(epochs, loss, 'bo', label='Training Loss')\n",
        "plt.plot(epochs, val_loss, 'b', label='Validation Loss')\n",
        "plt.title('Training and Validation Loss')\n",
        "plt.legend()\n",
        "\n",
        "plt.show()"
      ],
      "execution_count": null,
      "outputs": [
        {
          "output_type": "display_data",
          "data": {
            "image/png": "[encoded data removed]",
            "text/plain": [
              "<Figure size 432x288 with 1 Axes>"
            ]
          },
          "metadata": {
            "tags": [],
            "needs_background": "light"
          }
        },
        {
          "output_type": "display_data",
          "data": {
            "image/png": "[encoded data removed]",
            "text/plain": [
              "<Figure size 432x288 with 1 Axes>"
            ]
          },
          "metadata": {
            "tags": [],
            "needs_background": "light"
          }
        }
      ]
    },
    {
      "cell_type": "code",
      "metadata": {
        "colab": {
          "base_uri": "https://localhost:8080/"
        },
        "id": "EAzquiV7ChHI",
        "outputId": "1b713fde-1914-4dde-e2f3-2a2b08eb3cbd"
      },
      "source": [
        "test_generator = test_datagen.flow_from_directory(\n",
        "    test_dir,\n",
        "    target_size=(150,150),\n",
        "    batch_size=25,\n",
        "    class_mode = 'binary'\n",
        ")\n",
        "\n",
        "model.evaluate(test_generator)"
      ],
      "execution_count": null,
      "outputs": [
        {
          "output_type": "stream",
          "text": [
            "Found 100 images belonging to 2 classes.\n",
            "4/4 [==============================] - 0s 49ms/step - loss: 0.1182 - accuracy: 0.9400\n"
          ],
          "name": "stdout"
        },
        {
          "output_type": "execute_result",
          "data": {
            "text/plain": [
              "[0.11821892857551575, 0.9399999976158142]"
            ]
          },
          "metadata": {
            "tags": []
          },
          "execution_count": 45
        }
      ]
    },
    {
      "cell_type": "code",
      "metadata": {
        "id": "ec82JI2sCpJX"
      },
      "source": [
        "model.save('/content/gdrive/MyDrive/한이음자율형/Front_and_Top_2021_07_04.h5')"
      ],
      "execution_count": null,
      "outputs": []
    }
  ]
}